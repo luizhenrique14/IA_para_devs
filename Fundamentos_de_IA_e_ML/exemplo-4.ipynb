{
 "cells": [
  {
   "cell_type": "markdown",
   "metadata": {},
   "source": [
    "# Criando Funções em Python: Passo a Passo\n",
    "\n",
    "## Introdução\n",
    "As funções são blocos de código reutilizáveis que realizam uma tarefa específica. Elas ajudam a modularizar e organizar o código, tornando-o mais legível e fácil de manter. Neste notebook, vamos criar uma função passo a passo e entender como funcionam os retornos."
   ]
  },
  {
   "cell_type": "markdown",
   "metadata": {},
   "source": [
    "### Passo 1: Definindo uma Função Simples\n",
    "\n",
    "Para definir uma função em Python, usamos a palavra-chave `def` seguida do nome da função e parênteses. Dentro dos parênteses, podemos incluir parâmetros (variáveis de entrada). O corpo da função é indentado."
   ]
  },
  {
   "cell_type": "code",
   "execution_count": 1,
   "metadata": {},
   "outputs": [],
   "source": [
    "# Definindo uma função simples\n",
    "def saudacao():\n",
    "    print('Olá, Mundo!')"
   ]
  },
  {
   "cell_type": "markdown",
   "metadata": {},
   "source": [
    "### Passo 2: Chamando a Função\n",
    "\n",
    "Depois de definir a função, podemos chamá-la pelo nome seguido de parênteses."
   ]
  },
  {
   "cell_type": "code",
   "execution_count": 2,
   "metadata": {},
   "outputs": [
    {
     "name": "stdout",
     "output_type": "stream",
     "text": [
      "Olá, Mundo!\n"
     ]
    }
   ],
   "source": [
    "# Chamando a função\n",
    "saudacao()"
   ]
  },
  {
   "cell_type": "markdown",
   "metadata": {},
   "source": [
    "### Passo 3: Adicionando Parâmetros\n",
    "\n",
    "Podemos adicionar parâmetros à nossa função para torná-la mais flexível. Parâmetros são variáveis que recebem valores quando a função é chamada."
   ]
  },
  {
   "cell_type": "code",
   "execution_count": 3,
   "metadata": {},
   "outputs": [],
   "source": [
    "# Função com parâmetros\n",
    "def saudacao(nome):\n",
    "    print(f'Olá, {nome}!')"
   ]
  },
  {
   "cell_type": "markdown",
   "metadata": {},
   "source": [
    "### Passo 4: Chamando a Função com Argumentos\n",
    "\n",
    "Agora, ao chamar a função, passamos um valor (argumento) para o parâmetro."
   ]
  },
  {
   "cell_type": "code",
   "execution_count": 4,
   "metadata": {},
   "outputs": [
    {
     "name": "stdout",
     "output_type": "stream",
     "text": [
      "Olá, João!\n"
     ]
    }
   ],
   "source": [
    "# Chamando a função com um argumento\n",
    "saudacao('João')"
   ]
  },
  {
   "cell_type": "markdown",
   "metadata": {},
   "source": [
    "### Passo 5: Adicionando um Retorno\n",
    "\n",
    "Em vez de apenas imprimir um valor, podemos fazer a função retornar um valor usando a palavra-chave `return`."
   ]
  },
  {
   "cell_type": "code",
   "execution_count": 5,
   "metadata": {},
   "outputs": [],
   "source": [
    "# Função com retorno\n",
    "def saudacao(nome):\n",
    "    return f'Olá, {nome}!'"
   ]
  },
  {
   "cell_type": "markdown",
   "metadata": {},
   "source": [
    "### Passo 6: Armazenando o Valor Retornado\n",
    "\n",
    "Podemos armazenar o valor retornado por uma função em uma variável."
   ]
  },
  {
   "cell_type": "code",
   "execution_count": 6,
   "metadata": {},
   "outputs": [
    {
     "name": "stdout",
     "output_type": "stream",
     "text": [
      "Olá, Maria!\n"
     ]
    }
   ],
   "source": [
    "# Armazenando o valor retornado\n",
    "mensagem = saudacao('Maria')\n",
    "print(mensagem)"
   ]
  },
  {
   "cell_type": "markdown",
   "metadata": {},
   "source": [
    "### Passo 7: Função com Vários Parâmetros\n",
    "\n",
    "Podemos definir funções que aceitam múltiplos parâmetros. Vamos criar uma função que soma dois números."
   ]
  },
  {
   "cell_type": "code",
   "execution_count": 7,
   "metadata": {},
   "outputs": [],
   "source": [
    "# Função com múltiplos parâmetros\n",
    "def soma(a, b):\n",
    "    return a + b"
   ]
  },
  {
   "cell_type": "markdown",
   "metadata": {},
   "source": [
    "### Passo 8: Chamando a Função com Múltiplos Argumentos\n",
    "\n",
    "Vamos chamar a função `soma` passando dois números como argumentos."
   ]
  },
  {
   "cell_type": "code",
   "execution_count": 8,
   "metadata": {},
   "outputs": [
    {
     "name": "stdout",
     "output_type": "stream",
     "text": [
      "15\n"
     ]
    }
   ],
   "source": [
    "# Chamando a função com múltiplos argumentos\n",
    "resultado = soma(10, 5)\n",
    "print(resultado)"
   ]
  },
  {
   "cell_type": "markdown",
   "metadata": {},
   "source": [
    "## Conclusão\n",
    "\n",
    "Criar funções em Python é uma maneira poderosa de tornar seu código mais modular, reutilizável e organizado. As funções podem aceitar parâmetros e retornar valores, o que permite uma grande flexibilidade na programação. Com esses passos, você deve ser capaz de definir e usar suas próprias funções em Python."
   ]
  }
 ],
 "metadata": {
  "kernelspec": {
   "display_name": "Python 3",
   "language": "python",
   "name": "python3"
  },
  "language_info": {
   "codemirror_mode": {
    "name": "ipython",
    "version": 3
   },
   "file_extension": ".py",
   "mimetype": "text/x-python",
   "name": "python",
   "nbconvert_exporter": "python",
   "pygments_lexer": "ipython3",
   "version": "3.12.3"
  }
 },
 "nbformat": 4,
 "nbformat_minor": 4
}

