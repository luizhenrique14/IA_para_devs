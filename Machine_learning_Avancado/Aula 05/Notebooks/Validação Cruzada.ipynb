{
 "cells": [
  {
   "cell_type": "markdown",
   "id": "d551564c",
   "metadata": {
    "id": "d551564c"
   },
   "source": [
    "### Classificando problemas ortopédicos"
   ]
  },
  {
   "cell_type": "markdown",
   "id": "15fc428b",
   "metadata": {
    "id": "15fc428b"
   },
   "source": [
    "Esse dataset contém dados sobre problemas ortopédicos na coluna vertebral, diagnosticados no Centre Médico-Chirurgical de Réadaptation des Massues, em Lyon, France. Contém 6 atributos biomecânicos para 310 entradas **anonimizadas**, sendo **100** de pacientes considerados sem problemas **(Normal - NO)**, **60** de pacientes com **Hérnia de Disco (Disk Hernia - DH)** e **150** de pacientes com Espondilolistese **(Spondylolisthesis - SL)**. \n",
    "\n",
    "O dataset está disponível em https://www.openml.org/d/1523\n"
   ]
  },
  {
   "cell_type": "markdown",
   "id": "78de771a",
   "metadata": {
    "id": "78de771a"
   },
   "source": [
    "# Passo 1: Carregar a base de dados"
   ]
  },
  {
   "cell_type": "code",
   "execution_count": 1,
   "id": "460ee17c",
   "metadata": {
    "executionInfo": {
     "elapsed": 2405,
     "status": "ok",
     "timestamp": 1679867579404,
     "user": {
      "displayName": "Ana Raquel Fernandes Cunha",
      "userId": "11327054232231817255"
     },
     "user_tz": 180
    },
    "id": "460ee17c"
   },
   "outputs": [],
   "source": [
    "from sklearn.datasets import fetch_openml #importando o open ML\n",
    "import pandas as pd                       \n",
    "import matplotlib.pyplot as plt           \n",
    "import seaborn as sns                    \n",
    "import numpy as np                        \n",
    "\n",
    "from sklearn.model_selection import train_test_split \n",
    "from sklearn.neighbors import KNeighborsClassifier   \n",
    "from sklearn.metrics import confusion_matrix\n",
    "from sklearn.metrics import classification_report, cohen_kappa_score                      \n",
    "from sklearn.preprocessing import StandardScaler, MinMaxScaler                             "
   ]
  },
  {
   "cell_type": "code",
   "execution_count": 2,
   "id": "012bc56e",
   "metadata": {
    "colab": {
     "base_uri": "https://localhost:8080/"
    },
    "executionInfo": {
     "elapsed": 11557,
     "status": "ok",
     "timestamp": 1679867595098,
     "user": {
      "displayName": "Ana Raquel Fernandes Cunha",
      "userId": "11327054232231817255"
     },
     "user_tz": 180
    },
    "id": "012bc56e",
    "outputId": "6880e6c2-c1bb-4a02-b792-1b37def11c6a"
   },
   "outputs": [],
   "source": [
    "dados = fetch_openml(data_id=1523)"
   ]
  },
  {
   "cell_type": "code",
   "execution_count": 3,
   "id": "c43ecc31",
   "metadata": {
    "executionInfo": {
     "elapsed": 521,
     "status": "ok",
     "timestamp": 1679867636943,
     "user": {
      "displayName": "Ana Raquel Fernandes Cunha",
      "userId": "11327054232231817255"
     },
     "user_tz": 180
    },
    "id": "c43ecc31"
   },
   "outputs": [],
   "source": [
    "tabela_dados = pd.DataFrame(data=dados['data'])"
   ]
  },
  {
   "cell_type": "code",
   "execution_count": 4,
   "id": "2f3229c2",
   "metadata": {
    "colab": {
     "base_uri": "https://localhost:8080/",
     "height": 206
    },
    "executionInfo": {
     "elapsed": 428,
     "status": "ok",
     "timestamp": 1679867640755,
     "user": {
      "displayName": "Ana Raquel Fernandes Cunha",
      "userId": "11327054232231817255"
     },
     "user_tz": 180
    },
    "id": "2f3229c2",
    "outputId": "51436709-4ad4-4521-fe0c-4291ea58c956"
   },
   "outputs": [
    {
     "data": {
      "text/html": [
       "<div>\n",
       "<style scoped>\n",
       "    .dataframe tbody tr th:only-of-type {\n",
       "        vertical-align: middle;\n",
       "    }\n",
       "\n",
       "    .dataframe tbody tr th {\n",
       "        vertical-align: top;\n",
       "    }\n",
       "\n",
       "    .dataframe thead th {\n",
       "        text-align: right;\n",
       "    }\n",
       "</style>\n",
       "<table border=\"1\" class=\"dataframe\">\n",
       "  <thead>\n",
       "    <tr style=\"text-align: right;\">\n",
       "      <th></th>\n",
       "      <th>V1</th>\n",
       "      <th>V2</th>\n",
       "      <th>V3</th>\n",
       "      <th>V4</th>\n",
       "      <th>V5</th>\n",
       "      <th>V6</th>\n",
       "    </tr>\n",
       "  </thead>\n",
       "  <tbody>\n",
       "    <tr>\n",
       "      <th>0</th>\n",
       "      <td>63.027818</td>\n",
       "      <td>22.552586</td>\n",
       "      <td>39.609117</td>\n",
       "      <td>40.475232</td>\n",
       "      <td>98.672917</td>\n",
       "      <td>-0.254400</td>\n",
       "    </tr>\n",
       "    <tr>\n",
       "      <th>1</th>\n",
       "      <td>39.056951</td>\n",
       "      <td>10.060991</td>\n",
       "      <td>25.015378</td>\n",
       "      <td>28.995960</td>\n",
       "      <td>114.405425</td>\n",
       "      <td>4.564259</td>\n",
       "    </tr>\n",
       "    <tr>\n",
       "      <th>2</th>\n",
       "      <td>68.832021</td>\n",
       "      <td>22.218482</td>\n",
       "      <td>50.092194</td>\n",
       "      <td>46.613539</td>\n",
       "      <td>105.985136</td>\n",
       "      <td>-3.530317</td>\n",
       "    </tr>\n",
       "    <tr>\n",
       "      <th>3</th>\n",
       "      <td>69.297008</td>\n",
       "      <td>24.652878</td>\n",
       "      <td>44.311238</td>\n",
       "      <td>44.644130</td>\n",
       "      <td>101.868495</td>\n",
       "      <td>11.211523</td>\n",
       "    </tr>\n",
       "    <tr>\n",
       "      <th>4</th>\n",
       "      <td>49.712859</td>\n",
       "      <td>9.652075</td>\n",
       "      <td>28.317406</td>\n",
       "      <td>40.060784</td>\n",
       "      <td>108.168725</td>\n",
       "      <td>7.918501</td>\n",
       "    </tr>\n",
       "  </tbody>\n",
       "</table>\n",
       "</div>"
      ],
      "text/plain": [
       "          V1         V2         V3         V4          V5         V6\n",
       "0  63.027818  22.552586  39.609117  40.475232   98.672917  -0.254400\n",
       "1  39.056951  10.060991  25.015378  28.995960  114.405425   4.564259\n",
       "2  68.832021  22.218482  50.092194  46.613539  105.985136  -3.530317\n",
       "3  69.297008  24.652878  44.311238  44.644130  101.868495  11.211523\n",
       "4  49.712859   9.652075  28.317406  40.060784  108.168725   7.918501"
      ]
     },
     "execution_count": 4,
     "metadata": {},
     "output_type": "execute_result"
    }
   ],
   "source": [
    "tabela_dados.head()"
   ]
  },
  {
   "cell_type": "markdown",
   "id": "070e4c65",
   "metadata": {
    "id": "070e4c65"
   },
   "source": [
    "### Transformando a base de dados:"
   ]
  },
  {
   "cell_type": "code",
   "execution_count": 5,
   "id": "18e4a272",
   "metadata": {
    "executionInfo": {
     "elapsed": 418,
     "status": "ok",
     "timestamp": 1679867665279,
     "user": {
      "displayName": "Ana Raquel Fernandes Cunha",
      "userId": "11327054232231817255"
     },
     "user_tz": 180
    },
    "id": "18e4a272"
   },
   "outputs": [],
   "source": [
    "classes = {'1':'Disk Hernia',\n",
    "           '2':'Normal',\n",
    "           '3':'Spondylolisthesis'}"
   ]
  },
  {
   "cell_type": "code",
   "execution_count": 6,
   "id": "b62f4ff5",
   "metadata": {
    "colab": {
     "base_uri": "https://localhost:8080/"
    },
    "executionInfo": {
     "elapsed": 6,
     "status": "ok",
     "timestamp": 1679867667028,
     "user": {
      "displayName": "Ana Raquel Fernandes Cunha",
      "userId": "11327054232231817255"
     },
     "user_tz": 180
    },
    "id": "b62f4ff5",
    "outputId": "027f4af7-0cd6-44bc-b464-5cf0b0c7d78e"
   },
   "outputs": [
    {
     "data": {
      "text/plain": [
       "('Disk Hernia', 'Normal', 'Spondylolisthesis')"
      ]
     },
     "execution_count": 6,
     "metadata": {},
     "output_type": "execute_result"
    }
   ],
   "source": [
    "classes['1'], classes['2'], classes['3']"
   ]
  },
  {
   "cell_type": "code",
   "execution_count": 7,
   "id": "bfb5d2ab",
   "metadata": {
    "executionInfo": {
     "elapsed": 378,
     "status": "ok",
     "timestamp": 1679867669558,
     "user": {
      "displayName": "Ana Raquel Fernandes Cunha",
      "userId": "11327054232231817255"
     },
     "user_tz": 180
    },
    "id": "bfb5d2ab"
   },
   "outputs": [],
   "source": [
    "tabela_dados['diagnostic'] = [classes[target] for target in dados.target]"
   ]
  },
  {
   "cell_type": "code",
   "execution_count": 9,
   "id": "5fdcc738",
   "metadata": {
    "colab": {
     "base_uri": "https://localhost:8080/",
     "height": 206
    },
    "executionInfo": {
     "elapsed": 13,
     "status": "ok",
     "timestamp": 1679867671679,
     "user": {
      "displayName": "Ana Raquel Fernandes Cunha",
      "userId": "11327054232231817255"
     },
     "user_tz": 180
    },
    "id": "5fdcc738",
    "outputId": "ba5fbd43-a71a-4532-ff7a-4610581f3d44"
   },
   "outputs": [
    {
     "data": {
      "text/html": [
       "<div>\n",
       "<style scoped>\n",
       "    .dataframe tbody tr th:only-of-type {\n",
       "        vertical-align: middle;\n",
       "    }\n",
       "\n",
       "    .dataframe tbody tr th {\n",
       "        vertical-align: top;\n",
       "    }\n",
       "\n",
       "    .dataframe thead th {\n",
       "        text-align: right;\n",
       "    }\n",
       "</style>\n",
       "<table border=\"1\" class=\"dataframe\">\n",
       "  <thead>\n",
       "    <tr style=\"text-align: right;\">\n",
       "      <th></th>\n",
       "      <th>V1</th>\n",
       "      <th>V2</th>\n",
       "      <th>V3</th>\n",
       "      <th>V4</th>\n",
       "      <th>V5</th>\n",
       "      <th>V6</th>\n",
       "      <th>diagnostic</th>\n",
       "    </tr>\n",
       "  </thead>\n",
       "  <tbody>\n",
       "    <tr>\n",
       "      <th>0</th>\n",
       "      <td>63.027818</td>\n",
       "      <td>22.552586</td>\n",
       "      <td>39.609117</td>\n",
       "      <td>40.475232</td>\n",
       "      <td>98.672917</td>\n",
       "      <td>-0.254400</td>\n",
       "      <td>Disk Hernia</td>\n",
       "    </tr>\n",
       "    <tr>\n",
       "      <th>1</th>\n",
       "      <td>39.056951</td>\n",
       "      <td>10.060991</td>\n",
       "      <td>25.015378</td>\n",
       "      <td>28.995960</td>\n",
       "      <td>114.405425</td>\n",
       "      <td>4.564259</td>\n",
       "      <td>Disk Hernia</td>\n",
       "    </tr>\n",
       "    <tr>\n",
       "      <th>2</th>\n",
       "      <td>68.832021</td>\n",
       "      <td>22.218482</td>\n",
       "      <td>50.092194</td>\n",
       "      <td>46.613539</td>\n",
       "      <td>105.985136</td>\n",
       "      <td>-3.530317</td>\n",
       "      <td>Disk Hernia</td>\n",
       "    </tr>\n",
       "    <tr>\n",
       "      <th>3</th>\n",
       "      <td>69.297008</td>\n",
       "      <td>24.652878</td>\n",
       "      <td>44.311238</td>\n",
       "      <td>44.644130</td>\n",
       "      <td>101.868495</td>\n",
       "      <td>11.211523</td>\n",
       "      <td>Disk Hernia</td>\n",
       "    </tr>\n",
       "    <tr>\n",
       "      <th>4</th>\n",
       "      <td>49.712859</td>\n",
       "      <td>9.652075</td>\n",
       "      <td>28.317406</td>\n",
       "      <td>40.060784</td>\n",
       "      <td>108.168725</td>\n",
       "      <td>7.918501</td>\n",
       "      <td>Disk Hernia</td>\n",
       "    </tr>\n",
       "  </tbody>\n",
       "</table>\n",
       "</div>"
      ],
      "text/plain": [
       "          V1         V2         V3         V4          V5         V6  \\\n",
       "0  63.027818  22.552586  39.609117  40.475232   98.672917  -0.254400   \n",
       "1  39.056951  10.060991  25.015378  28.995960  114.405425   4.564259   \n",
       "2  68.832021  22.218482  50.092194  46.613539  105.985136  -3.530317   \n",
       "3  69.297008  24.652878  44.311238  44.644130  101.868495  11.211523   \n",
       "4  49.712859   9.652075  28.317406  40.060784  108.168725   7.918501   \n",
       "\n",
       "    diagnostic  \n",
       "0  Disk Hernia  \n",
       "1  Disk Hernia  \n",
       "2  Disk Hernia  \n",
       "3  Disk Hernia  \n",
       "4  Disk Hernia  "
      ]
     },
     "execution_count": 9,
     "metadata": {},
     "output_type": "execute_result"
    }
   ],
   "source": [
    "tabela_dados.head()"
   ]
  },
  {
   "cell_type": "markdown",
   "id": "f6bb2171",
   "metadata": {
    "id": "f6bb2171"
   },
   "source": [
    "## Passo 2: Análise exploratória dos dados"
   ]
  },
  {
   "cell_type": "code",
   "execution_count": 8,
   "id": "aaa5fb23",
   "metadata": {
    "colab": {
     "base_uri": "https://localhost:8080/"
    },
    "executionInfo": {
     "elapsed": 363,
     "status": "ok",
     "timestamp": 1679867676257,
     "user": {
      "displayName": "Ana Raquel Fernandes Cunha",
      "userId": "11327054232231817255"
     },
     "user_tz": 180
    },
    "id": "aaa5fb23",
    "outputId": "138b3b73-337a-4bb8-9d23-4afb5fbf3efa"
   },
   "outputs": [
    {
     "name": "stdout",
     "output_type": "stream",
     "text": [
      "<class 'pandas.core.frame.DataFrame'>\n",
      "RangeIndex: 310 entries, 0 to 309\n",
      "Data columns (total 7 columns):\n",
      " #   Column      Non-Null Count  Dtype  \n",
      "---  ------      --------------  -----  \n",
      " 0   V1          310 non-null    float64\n",
      " 1   V2          310 non-null    float64\n",
      " 2   V3          310 non-null    float64\n",
      " 3   V4          310 non-null    float64\n",
      " 4   V5          310 non-null    float64\n",
      " 5   V6          310 non-null    float64\n",
      " 6   diagnostic  310 non-null    object \n",
      "dtypes: float64(6), object(1)\n",
      "memory usage: 17.1+ KB\n"
     ]
    }
   ],
   "source": [
    "tabela_dados.info()"
   ]
  },
  {
   "cell_type": "code",
   "execution_count": 10,
   "id": "94e40619",
   "metadata": {
    "colab": {
     "base_uri": "https://localhost:8080/"
    },
    "executionInfo": {
     "elapsed": 3,
     "status": "ok",
     "timestamp": 1679867678341,
     "user": {
      "displayName": "Ana Raquel Fernandes Cunha",
      "userId": "11327054232231817255"
     },
     "user_tz": 180
    },
    "id": "94e40619",
    "outputId": "a665ba48-0e8d-4f87-8491-2b7d20e78d8e"
   },
   "outputs": [
    {
     "data": {
      "text/plain": [
       "310"
      ]
     },
     "execution_count": 10,
     "metadata": {},
     "output_type": "execute_result"
    }
   ],
   "source": [
    "len(tabela_dados)"
   ]
  },
  {
   "cell_type": "code",
   "execution_count": 11,
   "id": "ac7119d0",
   "metadata": {
    "colab": {
     "base_uri": "https://localhost:8080/",
     "height": 300
    },
    "executionInfo": {
     "elapsed": 404,
     "status": "ok",
     "timestamp": 1679867680958,
     "user": {
      "displayName": "Ana Raquel Fernandes Cunha",
      "userId": "11327054232231817255"
     },
     "user_tz": 180
    },
    "id": "ac7119d0",
    "outputId": "e52e767b-f6fe-4ee8-f534-4b3d714fa956"
   },
   "outputs": [
    {
     "data": {
      "text/html": [
       "<div>\n",
       "<style scoped>\n",
       "    .dataframe tbody tr th:only-of-type {\n",
       "        vertical-align: middle;\n",
       "    }\n",
       "\n",
       "    .dataframe tbody tr th {\n",
       "        vertical-align: top;\n",
       "    }\n",
       "\n",
       "    .dataframe thead th {\n",
       "        text-align: right;\n",
       "    }\n",
       "</style>\n",
       "<table border=\"1\" class=\"dataframe\">\n",
       "  <thead>\n",
       "    <tr style=\"text-align: right;\">\n",
       "      <th></th>\n",
       "      <th>V1</th>\n",
       "      <th>V2</th>\n",
       "      <th>V3</th>\n",
       "      <th>V4</th>\n",
       "      <th>V5</th>\n",
       "      <th>V6</th>\n",
       "    </tr>\n",
       "  </thead>\n",
       "  <tbody>\n",
       "    <tr>\n",
       "      <th>count</th>\n",
       "      <td>310.000000</td>\n",
       "      <td>310.000000</td>\n",
       "      <td>310.000000</td>\n",
       "      <td>310.000000</td>\n",
       "      <td>310.000000</td>\n",
       "      <td>310.000000</td>\n",
       "    </tr>\n",
       "    <tr>\n",
       "      <th>mean</th>\n",
       "      <td>60.496653</td>\n",
       "      <td>17.542822</td>\n",
       "      <td>51.930930</td>\n",
       "      <td>42.953831</td>\n",
       "      <td>117.920655</td>\n",
       "      <td>26.296694</td>\n",
       "    </tr>\n",
       "    <tr>\n",
       "      <th>std</th>\n",
       "      <td>17.236520</td>\n",
       "      <td>10.008330</td>\n",
       "      <td>18.554064</td>\n",
       "      <td>13.423102</td>\n",
       "      <td>13.317377</td>\n",
       "      <td>37.559027</td>\n",
       "    </tr>\n",
       "    <tr>\n",
       "      <th>min</th>\n",
       "      <td>26.147921</td>\n",
       "      <td>-6.554948</td>\n",
       "      <td>14.000000</td>\n",
       "      <td>13.366931</td>\n",
       "      <td>70.082575</td>\n",
       "      <td>-11.058179</td>\n",
       "    </tr>\n",
       "    <tr>\n",
       "      <th>25%</th>\n",
       "      <td>46.430294</td>\n",
       "      <td>10.667069</td>\n",
       "      <td>37.000000</td>\n",
       "      <td>33.347122</td>\n",
       "      <td>110.709196</td>\n",
       "      <td>1.603727</td>\n",
       "    </tr>\n",
       "    <tr>\n",
       "      <th>50%</th>\n",
       "      <td>58.691038</td>\n",
       "      <td>16.357689</td>\n",
       "      <td>49.562398</td>\n",
       "      <td>42.404912</td>\n",
       "      <td>118.268178</td>\n",
       "      <td>11.767933</td>\n",
       "    </tr>\n",
       "    <tr>\n",
       "      <th>75%</th>\n",
       "      <td>72.877696</td>\n",
       "      <td>22.120395</td>\n",
       "      <td>63.000000</td>\n",
       "      <td>52.695889</td>\n",
       "      <td>125.467675</td>\n",
       "      <td>41.287352</td>\n",
       "    </tr>\n",
       "    <tr>\n",
       "      <th>max</th>\n",
       "      <td>129.834041</td>\n",
       "      <td>49.431864</td>\n",
       "      <td>125.742386</td>\n",
       "      <td>121.429566</td>\n",
       "      <td>163.071041</td>\n",
       "      <td>418.543082</td>\n",
       "    </tr>\n",
       "  </tbody>\n",
       "</table>\n",
       "</div>"
      ],
      "text/plain": [
       "               V1          V2          V3          V4          V5          V6\n",
       "count  310.000000  310.000000  310.000000  310.000000  310.000000  310.000000\n",
       "mean    60.496653   17.542822   51.930930   42.953831  117.920655   26.296694\n",
       "std     17.236520   10.008330   18.554064   13.423102   13.317377   37.559027\n",
       "min     26.147921   -6.554948   14.000000   13.366931   70.082575  -11.058179\n",
       "25%     46.430294   10.667069   37.000000   33.347122  110.709196    1.603727\n",
       "50%     58.691038   16.357689   49.562398   42.404912  118.268178   11.767933\n",
       "75%     72.877696   22.120395   63.000000   52.695889  125.467675   41.287352\n",
       "max    129.834041   49.431864  125.742386  121.429566  163.071041  418.543082"
      ]
     },
     "execution_count": 11,
     "metadata": {},
     "output_type": "execute_result"
    }
   ],
   "source": [
    "tabela_dados.describe()"
   ]
  },
  {
   "cell_type": "markdown",
   "id": "2fac6d46",
   "metadata": {
    "id": "2fac6d46"
   },
   "source": [
    "Como está a média dos dados?"
   ]
  },
  {
   "cell_type": "code",
   "execution_count": 12,
   "id": "daa98820",
   "metadata": {
    "colab": {
     "base_uri": "https://localhost:8080/",
     "height": 175
    },
    "executionInfo": {
     "elapsed": 5,
     "status": "ok",
     "timestamp": 1679867683741,
     "user": {
      "displayName": "Ana Raquel Fernandes Cunha",
      "userId": "11327054232231817255"
     },
     "user_tz": 180
    },
    "id": "daa98820",
    "outputId": "2e43ab6d-813a-48af-86df-ce0488a83b56"
   },
   "outputs": [
    {
     "data": {
      "text/html": [
       "<div>\n",
       "<style scoped>\n",
       "    .dataframe tbody tr th:only-of-type {\n",
       "        vertical-align: middle;\n",
       "    }\n",
       "\n",
       "    .dataframe tbody tr th {\n",
       "        vertical-align: top;\n",
       "    }\n",
       "\n",
       "    .dataframe thead th {\n",
       "        text-align: right;\n",
       "    }\n",
       "</style>\n",
       "<table border=\"1\" class=\"dataframe\">\n",
       "  <thead>\n",
       "    <tr style=\"text-align: right;\">\n",
       "      <th></th>\n",
       "      <th>V1</th>\n",
       "      <th>V2</th>\n",
       "      <th>V3</th>\n",
       "      <th>V4</th>\n",
       "      <th>V5</th>\n",
       "      <th>V6</th>\n",
       "    </tr>\n",
       "    <tr>\n",
       "      <th>diagnostic</th>\n",
       "      <th></th>\n",
       "      <th></th>\n",
       "      <th></th>\n",
       "      <th></th>\n",
       "      <th></th>\n",
       "      <th></th>\n",
       "    </tr>\n",
       "  </thead>\n",
       "  <tbody>\n",
       "    <tr>\n",
       "      <th>Disk Hernia</th>\n",
       "      <td>47.638407</td>\n",
       "      <td>17.398795</td>\n",
       "      <td>35.463524</td>\n",
       "      <td>30.239612</td>\n",
       "      <td>116.474968</td>\n",
       "      <td>2.480251</td>\n",
       "    </tr>\n",
       "    <tr>\n",
       "      <th>Normal</th>\n",
       "      <td>51.685244</td>\n",
       "      <td>12.821414</td>\n",
       "      <td>43.542605</td>\n",
       "      <td>38.863830</td>\n",
       "      <td>123.890834</td>\n",
       "      <td>2.186572</td>\n",
       "    </tr>\n",
       "    <tr>\n",
       "      <th>Spondylolisthesis</th>\n",
       "      <td>71.514224</td>\n",
       "      <td>20.748038</td>\n",
       "      <td>64.110108</td>\n",
       "      <td>50.766186</td>\n",
       "      <td>114.518810</td>\n",
       "      <td>51.896687</td>\n",
       "    </tr>\n",
       "  </tbody>\n",
       "</table>\n",
       "</div>"
      ],
      "text/plain": [
       "                          V1         V2         V3         V4          V5  \\\n",
       "diagnostic                                                                  \n",
       "Disk Hernia        47.638407  17.398795  35.463524  30.239612  116.474968   \n",
       "Normal             51.685244  12.821414  43.542605  38.863830  123.890834   \n",
       "Spondylolisthesis  71.514224  20.748038  64.110108  50.766186  114.518810   \n",
       "\n",
       "                          V6  \n",
       "diagnostic                    \n",
       "Disk Hernia         2.480251  \n",
       "Normal              2.186572  \n",
       "Spondylolisthesis  51.896687  "
      ]
     },
     "execution_count": 12,
     "metadata": {},
     "output_type": "execute_result"
    }
   ],
   "source": [
    "tabela_dados.groupby('diagnostic').mean()"
   ]
  },
  {
   "cell_type": "code",
   "execution_count": 13,
   "id": "dcd28b46",
   "metadata": {
    "colab": {
     "base_uri": "https://localhost:8080/",
     "height": 299
    },
    "executionInfo": {
     "elapsed": 578,
     "status": "ok",
     "timestamp": 1679867691420,
     "user": {
      "displayName": "Ana Raquel Fernandes Cunha",
      "userId": "11327054232231817255"
     },
     "user_tz": 180
    },
    "id": "dcd28b46",
    "outputId": "ebee3fbc-5e46-4350-af5e-31ba09aeebc3"
   },
   "outputs": [
    {
     "data": {
      "text/html": [
       "<div>\n",
       "<style scoped>\n",
       "    .dataframe tbody tr th:only-of-type {\n",
       "        vertical-align: middle;\n",
       "    }\n",
       "\n",
       "    .dataframe tbody tr th {\n",
       "        vertical-align: top;\n",
       "    }\n",
       "\n",
       "    .dataframe thead tr th {\n",
       "        text-align: left;\n",
       "    }\n",
       "\n",
       "    .dataframe thead tr:last-of-type th {\n",
       "        text-align: right;\n",
       "    }\n",
       "</style>\n",
       "<table border=\"1\" class=\"dataframe\">\n",
       "  <thead>\n",
       "    <tr>\n",
       "      <th></th>\n",
       "      <th colspan=\"8\" halign=\"left\">V1</th>\n",
       "      <th colspan=\"2\" halign=\"left\">V2</th>\n",
       "      <th>...</th>\n",
       "      <th colspan=\"2\" halign=\"left\">V5</th>\n",
       "      <th colspan=\"8\" halign=\"left\">V6</th>\n",
       "    </tr>\n",
       "    <tr>\n",
       "      <th></th>\n",
       "      <th>count</th>\n",
       "      <th>mean</th>\n",
       "      <th>std</th>\n",
       "      <th>min</th>\n",
       "      <th>25%</th>\n",
       "      <th>50%</th>\n",
       "      <th>75%</th>\n",
       "      <th>max</th>\n",
       "      <th>count</th>\n",
       "      <th>mean</th>\n",
       "      <th>...</th>\n",
       "      <th>75%</th>\n",
       "      <th>max</th>\n",
       "      <th>count</th>\n",
       "      <th>mean</th>\n",
       "      <th>std</th>\n",
       "      <th>min</th>\n",
       "      <th>25%</th>\n",
       "      <th>50%</th>\n",
       "      <th>75%</th>\n",
       "      <th>max</th>\n",
       "    </tr>\n",
       "    <tr>\n",
       "      <th>diagnostic</th>\n",
       "      <th></th>\n",
       "      <th></th>\n",
       "      <th></th>\n",
       "      <th></th>\n",
       "      <th></th>\n",
       "      <th></th>\n",
       "      <th></th>\n",
       "      <th></th>\n",
       "      <th></th>\n",
       "      <th></th>\n",
       "      <th></th>\n",
       "      <th></th>\n",
       "      <th></th>\n",
       "      <th></th>\n",
       "      <th></th>\n",
       "      <th></th>\n",
       "      <th></th>\n",
       "      <th></th>\n",
       "      <th></th>\n",
       "      <th></th>\n",
       "      <th></th>\n",
       "    </tr>\n",
       "  </thead>\n",
       "  <tbody>\n",
       "    <tr>\n",
       "      <th>Disk Hernia</th>\n",
       "      <td>60.0</td>\n",
       "      <td>47.638407</td>\n",
       "      <td>10.697131</td>\n",
       "      <td>26.147921</td>\n",
       "      <td>41.018099</td>\n",
       "      <td>46.416169</td>\n",
       "      <td>53.922329</td>\n",
       "      <td>74.433593</td>\n",
       "      <td>60.0</td>\n",
       "      <td>17.398795</td>\n",
       "      <td>...</td>\n",
       "      <td>122.042999</td>\n",
       "      <td>137.540613</td>\n",
       "      <td>60.0</td>\n",
       "      <td>2.480251</td>\n",
       "      <td>5.531177</td>\n",
       "      <td>-10.675871</td>\n",
       "      <td>-0.910818</td>\n",
       "      <td>2.542441</td>\n",
       "      <td>6.059666</td>\n",
       "      <td>15.779697</td>\n",
       "    </tr>\n",
       "    <tr>\n",
       "      <th>Normal</th>\n",
       "      <td>100.0</td>\n",
       "      <td>51.685244</td>\n",
       "      <td>12.368161</td>\n",
       "      <td>30.741938</td>\n",
       "      <td>42.817849</td>\n",
       "      <td>50.123115</td>\n",
       "      <td>61.470097</td>\n",
       "      <td>89.834676</td>\n",
       "      <td>100.0</td>\n",
       "      <td>12.821414</td>\n",
       "      <td>...</td>\n",
       "      <td>129.040402</td>\n",
       "      <td>147.894637</td>\n",
       "      <td>100.0</td>\n",
       "      <td>2.186572</td>\n",
       "      <td>6.307483</td>\n",
       "      <td>-11.058179</td>\n",
       "      <td>-1.511360</td>\n",
       "      <td>1.152710</td>\n",
       "      <td>4.968807</td>\n",
       "      <td>31.172767</td>\n",
       "    </tr>\n",
       "    <tr>\n",
       "      <th>Spondylolisthesis</th>\n",
       "      <td>150.0</td>\n",
       "      <td>71.514224</td>\n",
       "      <td>15.109337</td>\n",
       "      <td>37.903910</td>\n",
       "      <td>60.658136</td>\n",
       "      <td>72.149306</td>\n",
       "      <td>81.075893</td>\n",
       "      <td>129.834041</td>\n",
       "      <td>150.0</td>\n",
       "      <td>20.748038</td>\n",
       "      <td>...</td>\n",
       "      <td>123.337307</td>\n",
       "      <td>163.071041</td>\n",
       "      <td>150.0</td>\n",
       "      <td>51.896687</td>\n",
       "      <td>40.108030</td>\n",
       "      <td>1.010041</td>\n",
       "      <td>30.393271</td>\n",
       "      <td>42.372509</td>\n",
       "      <td>61.894425</td>\n",
       "      <td>418.543082</td>\n",
       "    </tr>\n",
       "  </tbody>\n",
       "</table>\n",
       "<p>3 rows × 48 columns</p>\n",
       "</div>"
      ],
      "text/plain": [
       "                      V1                                              \\\n",
       "                   count       mean        std        min        25%   \n",
       "diagnostic                                                             \n",
       "Disk Hernia         60.0  47.638407  10.697131  26.147921  41.018099   \n",
       "Normal             100.0  51.685244  12.368161  30.741938  42.817849   \n",
       "Spondylolisthesis  150.0  71.514224  15.109337  37.903910  60.658136   \n",
       "\n",
       "                                                        V2             ...  \\\n",
       "                         50%        75%         max  count       mean  ...   \n",
       "diagnostic                                                             ...   \n",
       "Disk Hernia        46.416169  53.922329   74.433593   60.0  17.398795  ...   \n",
       "Normal             50.123115  61.470097   89.834676  100.0  12.821414  ...   \n",
       "Spondylolisthesis  72.149306  81.075893  129.834041  150.0  20.748038  ...   \n",
       "\n",
       "                           V5                 V6                        \\\n",
       "                          75%         max  count       mean        std   \n",
       "diagnostic                                                               \n",
       "Disk Hernia        122.042999  137.540613   60.0   2.480251   5.531177   \n",
       "Normal             129.040402  147.894637  100.0   2.186572   6.307483   \n",
       "Spondylolisthesis  123.337307  163.071041  150.0  51.896687  40.108030   \n",
       "\n",
       "                                                                           \n",
       "                         min        25%        50%        75%         max  \n",
       "diagnostic                                                                 \n",
       "Disk Hernia       -10.675871  -0.910818   2.542441   6.059666   15.779697  \n",
       "Normal            -11.058179  -1.511360   1.152710   4.968807   31.172767  \n",
       "Spondylolisthesis   1.010041  30.393271  42.372509  61.894425  418.543082  \n",
       "\n",
       "[3 rows x 48 columns]"
      ]
     },
     "execution_count": 13,
     "metadata": {},
     "output_type": "execute_result"
    }
   ],
   "source": [
    "tabela_dados.groupby('diagnostic').describe()"
   ]
  },
  {
   "cell_type": "markdown",
   "id": "46ebbc06",
   "metadata": {
    "id": "46ebbc06"
   },
   "source": [
    "Analisando o outlier:"
   ]
  },
  {
   "cell_type": "code",
   "execution_count": 14,
   "id": "b5964b3f",
   "metadata": {
    "colab": {
     "base_uri": "https://localhost:8080/",
     "height": 81
    },
    "executionInfo": {
     "elapsed": 14,
     "status": "ok",
     "timestamp": 1679867694360,
     "user": {
      "displayName": "Ana Raquel Fernandes Cunha",
      "userId": "11327054232231817255"
     },
     "user_tz": 180
    },
    "id": "b5964b3f",
    "outputId": "9e0e5460-8c03-4400-a086-72451e93290c"
   },
   "outputs": [
    {
     "data": {
      "text/html": [
       "<div>\n",
       "<style scoped>\n",
       "    .dataframe tbody tr th:only-of-type {\n",
       "        vertical-align: middle;\n",
       "    }\n",
       "\n",
       "    .dataframe tbody tr th {\n",
       "        vertical-align: top;\n",
       "    }\n",
       "\n",
       "    .dataframe thead th {\n",
       "        text-align: right;\n",
       "    }\n",
       "</style>\n",
       "<table border=\"1\" class=\"dataframe\">\n",
       "  <thead>\n",
       "    <tr style=\"text-align: right;\">\n",
       "      <th></th>\n",
       "      <th>V1</th>\n",
       "      <th>V2</th>\n",
       "      <th>V3</th>\n",
       "      <th>V4</th>\n",
       "      <th>V5</th>\n",
       "      <th>V6</th>\n",
       "      <th>diagnostic</th>\n",
       "    </tr>\n",
       "  </thead>\n",
       "  <tbody>\n",
       "    <tr>\n",
       "      <th>115</th>\n",
       "      <td>129.834041</td>\n",
       "      <td>8.404475</td>\n",
       "      <td>48.384057</td>\n",
       "      <td>121.429566</td>\n",
       "      <td>107.690466</td>\n",
       "      <td>418.543082</td>\n",
       "      <td>Spondylolisthesis</td>\n",
       "    </tr>\n",
       "  </tbody>\n",
       "</table>\n",
       "</div>"
      ],
      "text/plain": [
       "             V1        V2         V3          V4          V5          V6  \\\n",
       "115  129.834041  8.404475  48.384057  121.429566  107.690466  418.543082   \n",
       "\n",
       "            diagnostic  \n",
       "115  Spondylolisthesis  "
      ]
     },
     "execution_count": 14,
     "metadata": {},
     "output_type": "execute_result"
    }
   ],
   "source": [
    "tabela_dados.loc[tabela_dados['V6'] > 400]"
   ]
  },
  {
   "cell_type": "markdown",
   "id": "6a4f3ef4",
   "metadata": {
    "id": "6a4f3ef4"
   },
   "source": [
    "# Removendo o outlier:"
   ]
  },
  {
   "cell_type": "code",
   "execution_count": 15,
   "id": "2c9a430a",
   "metadata": {
    "executionInfo": {
     "elapsed": 384,
     "status": "ok",
     "timestamp": 1679867697523,
     "user": {
      "displayName": "Ana Raquel Fernandes Cunha",
      "userId": "11327054232231817255"
     },
     "user_tz": 180
    },
    "id": "2c9a430a"
   },
   "outputs": [],
   "source": [
    "tabela_dados.drop(tabela_dados.loc[tabela_dados['V6'] > 400].index, inplace=True)"
   ]
  },
  {
   "cell_type": "code",
   "execution_count": 16,
   "id": "11ef0c6a",
   "metadata": {
    "colab": {
     "base_uri": "https://localhost:8080/",
     "height": 49
    },
    "executionInfo": {
     "elapsed": 13,
     "status": "ok",
     "timestamp": 1679867698352,
     "user": {
      "displayName": "Ana Raquel Fernandes Cunha",
      "userId": "11327054232231817255"
     },
     "user_tz": 180
    },
    "id": "11ef0c6a",
    "outputId": "c32ca000-3a4f-4de9-f891-33234ec3b4ee"
   },
   "outputs": [
    {
     "data": {
      "text/html": [
       "<div>\n",
       "<style scoped>\n",
       "    .dataframe tbody tr th:only-of-type {\n",
       "        vertical-align: middle;\n",
       "    }\n",
       "\n",
       "    .dataframe tbody tr th {\n",
       "        vertical-align: top;\n",
       "    }\n",
       "\n",
       "    .dataframe thead th {\n",
       "        text-align: right;\n",
       "    }\n",
       "</style>\n",
       "<table border=\"1\" class=\"dataframe\">\n",
       "  <thead>\n",
       "    <tr style=\"text-align: right;\">\n",
       "      <th></th>\n",
       "      <th>V1</th>\n",
       "      <th>V2</th>\n",
       "      <th>V3</th>\n",
       "      <th>V4</th>\n",
       "      <th>V5</th>\n",
       "      <th>V6</th>\n",
       "      <th>diagnostic</th>\n",
       "    </tr>\n",
       "  </thead>\n",
       "  <tbody>\n",
       "  </tbody>\n",
       "</table>\n",
       "</div>"
      ],
      "text/plain": [
       "Empty DataFrame\n",
       "Columns: [V1, V2, V3, V4, V5, V6, diagnostic]\n",
       "Index: []"
      ]
     },
     "execution_count": 16,
     "metadata": {},
     "output_type": "execute_result"
    }
   ],
   "source": [
    "tabela_dados.loc[tabela_dados['V6'] > 400]"
   ]
  },
  {
   "cell_type": "markdown",
   "id": "2c89ded8",
   "metadata": {
    "id": "2c89ded8"
   },
   "source": [
    "## Passo 3: Separação dos dados"
   ]
  },
  {
   "cell_type": "code",
   "execution_count": 17,
   "id": "8afef2d7",
   "metadata": {
    "executionInfo": {
     "elapsed": 6,
     "status": "ok",
     "timestamp": 1679867701489,
     "user": {
      "displayName": "Ana Raquel Fernandes Cunha",
      "userId": "11327054232231817255"
     },
     "user_tz": 180
    },
    "id": "8afef2d7"
   },
   "outputs": [],
   "source": [
    "x = tabela_dados.drop(columns=['diagnostic'])\n",
    "y = tabela_dados['diagnostic'] #O que eu quero prever. (Target)"
   ]
  },
  {
   "cell_type": "code",
   "execution_count": 18,
   "id": "d5c4482c",
   "metadata": {
    "executionInfo": {
     "elapsed": 359,
     "status": "ok",
     "timestamp": 1679867704197,
     "user": {
      "displayName": "Ana Raquel Fernandes Cunha",
      "userId": "11327054232231817255"
     },
     "user_tz": 180
    },
    "id": "d5c4482c"
   },
   "outputs": [],
   "source": [
    "x_train, x_test, y_train, y_test = train_test_split(x, y, test_size=0.2, stratify=y, random_state=42) "
   ]
  },
  {
   "cell_type": "markdown",
   "id": "5c1a9fd9",
   "metadata": {
    "id": "5c1a9fd9"
   },
   "source": [
    "### Passo 4: Normalizando os dados"
   ]
  },
  {
   "cell_type": "code",
   "execution_count": 19,
   "id": "17097896",
   "metadata": {
    "executionInfo": {
     "elapsed": 5,
     "status": "ok",
     "timestamp": 1679867705078,
     "user": {
      "displayName": "Ana Raquel Fernandes Cunha",
      "userId": "11327054232231817255"
     },
     "user_tz": 180
    },
    "id": "17097896"
   },
   "outputs": [],
   "source": [
    "#scaler = StandardScaler() #chamando o metodo de padronização dos dados (média e std)\n",
    "scaler = MinMaxScaler() #chamando o metodo de normalização dos dados (0-1)\n",
    "\n",
    "scaler.fit(x_train)# qual média e std será utilizado para o escalonamento\n",
    "\n",
    "x_train_scaled = scaler.transform(x_train)\n",
    "x_test_scaled= scaler.transform(x_test)"
   ]
  },
  {
   "cell_type": "markdown",
   "id": "a3b75e6c",
   "metadata": {
    "id": "a3b75e6c"
   },
   "source": [
    "### Passo 5: Criação do modelo"
   ]
  },
  {
   "cell_type": "markdown",
   "id": "72bd33f3",
   "metadata": {
    "id": "72bd33f3"
   },
   "source": [
    "### Treinando o modelo com dados sem escalonamento:"
   ]
  },
  {
   "cell_type": "code",
   "execution_count": 20,
   "id": "e8edb150",
   "metadata": {
    "colab": {
     "base_uri": "https://localhost:8080/",
     "height": 74
    },
    "executionInfo": {
     "elapsed": 9,
     "status": "ok",
     "timestamp": 1679867707889,
     "user": {
      "displayName": "Ana Raquel Fernandes Cunha",
      "userId": "11327054232231817255"
     },
     "user_tz": 180
    },
    "id": "e8edb150",
    "outputId": "8f17d841-f099-4b99-dbbe-703a7575ad53"
   },
   "outputs": [
    {
     "data": {
      "text/html": [
       "<style>#sk-container-id-1 {\n",
       "  /* Definition of color scheme common for light and dark mode */\n",
       "  --sklearn-color-text: #000;\n",
       "  --sklearn-color-text-muted: #666;\n",
       "  --sklearn-color-line: gray;\n",
       "  /* Definition of color scheme for unfitted estimators */\n",
       "  --sklearn-color-unfitted-level-0: #fff5e6;\n",
       "  --sklearn-color-unfitted-level-1: #f6e4d2;\n",
       "  --sklearn-color-unfitted-level-2: #ffe0b3;\n",
       "  --sklearn-color-unfitted-level-3: chocolate;\n",
       "  /* Definition of color scheme for fitted estimators */\n",
       "  --sklearn-color-fitted-level-0: #f0f8ff;\n",
       "  --sklearn-color-fitted-level-1: #d4ebff;\n",
       "  --sklearn-color-fitted-level-2: #b3dbfd;\n",
       "  --sklearn-color-fitted-level-3: cornflowerblue;\n",
       "\n",
       "  /* Specific color for light theme */\n",
       "  --sklearn-color-text-on-default-background: var(--sg-text-color, var(--theme-code-foreground, var(--jp-content-font-color1, black)));\n",
       "  --sklearn-color-background: var(--sg-background-color, var(--theme-background, var(--jp-layout-color0, white)));\n",
       "  --sklearn-color-border-box: var(--sg-text-color, var(--theme-code-foreground, var(--jp-content-font-color1, black)));\n",
       "  --sklearn-color-icon: #696969;\n",
       "\n",
       "  @media (prefers-color-scheme: dark) {\n",
       "    /* Redefinition of color scheme for dark theme */\n",
       "    --sklearn-color-text-on-default-background: var(--sg-text-color, var(--theme-code-foreground, var(--jp-content-font-color1, white)));\n",
       "    --sklearn-color-background: var(--sg-background-color, var(--theme-background, var(--jp-layout-color0, #111)));\n",
       "    --sklearn-color-border-box: var(--sg-text-color, var(--theme-code-foreground, var(--jp-content-font-color1, white)));\n",
       "    --sklearn-color-icon: #878787;\n",
       "  }\n",
       "}\n",
       "\n",
       "#sk-container-id-1 {\n",
       "  color: var(--sklearn-color-text);\n",
       "}\n",
       "\n",
       "#sk-container-id-1 pre {\n",
       "  padding: 0;\n",
       "}\n",
       "\n",
       "#sk-container-id-1 input.sk-hidden--visually {\n",
       "  border: 0;\n",
       "  clip: rect(1px 1px 1px 1px);\n",
       "  clip: rect(1px, 1px, 1px, 1px);\n",
       "  height: 1px;\n",
       "  margin: -1px;\n",
       "  overflow: hidden;\n",
       "  padding: 0;\n",
       "  position: absolute;\n",
       "  width: 1px;\n",
       "}\n",
       "\n",
       "#sk-container-id-1 div.sk-dashed-wrapped {\n",
       "  border: 1px dashed var(--sklearn-color-line);\n",
       "  margin: 0 0.4em 0.5em 0.4em;\n",
       "  box-sizing: border-box;\n",
       "  padding-bottom: 0.4em;\n",
       "  background-color: var(--sklearn-color-background);\n",
       "}\n",
       "\n",
       "#sk-container-id-1 div.sk-container {\n",
       "  /* jupyter's `normalize.less` sets `[hidden] { display: none; }`\n",
       "     but bootstrap.min.css set `[hidden] { display: none !important; }`\n",
       "     so we also need the `!important` here to be able to override the\n",
       "     default hidden behavior on the sphinx rendered scikit-learn.org.\n",
       "     See: https://github.com/scikit-learn/scikit-learn/issues/21755 */\n",
       "  display: inline-block !important;\n",
       "  position: relative;\n",
       "}\n",
       "\n",
       "#sk-container-id-1 div.sk-text-repr-fallback {\n",
       "  display: none;\n",
       "}\n",
       "\n",
       "div.sk-parallel-item,\n",
       "div.sk-serial,\n",
       "div.sk-item {\n",
       "  /* draw centered vertical line to link estimators */\n",
       "  background-image: linear-gradient(var(--sklearn-color-text-on-default-background), var(--sklearn-color-text-on-default-background));\n",
       "  background-size: 2px 100%;\n",
       "  background-repeat: no-repeat;\n",
       "  background-position: center center;\n",
       "}\n",
       "\n",
       "/* Parallel-specific style estimator block */\n",
       "\n",
       "#sk-container-id-1 div.sk-parallel-item::after {\n",
       "  content: \"\";\n",
       "  width: 100%;\n",
       "  border-bottom: 2px solid var(--sklearn-color-text-on-default-background);\n",
       "  flex-grow: 1;\n",
       "}\n",
       "\n",
       "#sk-container-id-1 div.sk-parallel {\n",
       "  display: flex;\n",
       "  align-items: stretch;\n",
       "  justify-content: center;\n",
       "  background-color: var(--sklearn-color-background);\n",
       "  position: relative;\n",
       "}\n",
       "\n",
       "#sk-container-id-1 div.sk-parallel-item {\n",
       "  display: flex;\n",
       "  flex-direction: column;\n",
       "}\n",
       "\n",
       "#sk-container-id-1 div.sk-parallel-item:first-child::after {\n",
       "  align-self: flex-end;\n",
       "  width: 50%;\n",
       "}\n",
       "\n",
       "#sk-container-id-1 div.sk-parallel-item:last-child::after {\n",
       "  align-self: flex-start;\n",
       "  width: 50%;\n",
       "}\n",
       "\n",
       "#sk-container-id-1 div.sk-parallel-item:only-child::after {\n",
       "  width: 0;\n",
       "}\n",
       "\n",
       "/* Serial-specific style estimator block */\n",
       "\n",
       "#sk-container-id-1 div.sk-serial {\n",
       "  display: flex;\n",
       "  flex-direction: column;\n",
       "  align-items: center;\n",
       "  background-color: var(--sklearn-color-background);\n",
       "  padding-right: 1em;\n",
       "  padding-left: 1em;\n",
       "}\n",
       "\n",
       "\n",
       "/* Toggleable style: style used for estimator/Pipeline/ColumnTransformer box that is\n",
       "clickable and can be expanded/collapsed.\n",
       "- Pipeline and ColumnTransformer use this feature and define the default style\n",
       "- Estimators will overwrite some part of the style using the `sk-estimator` class\n",
       "*/\n",
       "\n",
       "/* Pipeline and ColumnTransformer style (default) */\n",
       "\n",
       "#sk-container-id-1 div.sk-toggleable {\n",
       "  /* Default theme specific background. It is overwritten whether we have a\n",
       "  specific estimator or a Pipeline/ColumnTransformer */\n",
       "  background-color: var(--sklearn-color-background);\n",
       "}\n",
       "\n",
       "/* Toggleable label */\n",
       "#sk-container-id-1 label.sk-toggleable__label {\n",
       "  cursor: pointer;\n",
       "  display: flex;\n",
       "  width: 100%;\n",
       "  margin-bottom: 0;\n",
       "  padding: 0.5em;\n",
       "  box-sizing: border-box;\n",
       "  text-align: center;\n",
       "  align-items: start;\n",
       "  justify-content: space-between;\n",
       "  gap: 0.5em;\n",
       "}\n",
       "\n",
       "#sk-container-id-1 label.sk-toggleable__label .caption {\n",
       "  font-size: 0.6rem;\n",
       "  font-weight: lighter;\n",
       "  color: var(--sklearn-color-text-muted);\n",
       "}\n",
       "\n",
       "#sk-container-id-1 label.sk-toggleable__label-arrow:before {\n",
       "  /* Arrow on the left of the label */\n",
       "  content: \"▸\";\n",
       "  float: left;\n",
       "  margin-right: 0.25em;\n",
       "  color: var(--sklearn-color-icon);\n",
       "}\n",
       "\n",
       "#sk-container-id-1 label.sk-toggleable__label-arrow:hover:before {\n",
       "  color: var(--sklearn-color-text);\n",
       "}\n",
       "\n",
       "/* Toggleable content - dropdown */\n",
       "\n",
       "#sk-container-id-1 div.sk-toggleable__content {\n",
       "  max-height: 0;\n",
       "  max-width: 0;\n",
       "  overflow: hidden;\n",
       "  text-align: left;\n",
       "  /* unfitted */\n",
       "  background-color: var(--sklearn-color-unfitted-level-0);\n",
       "}\n",
       "\n",
       "#sk-container-id-1 div.sk-toggleable__content.fitted {\n",
       "  /* fitted */\n",
       "  background-color: var(--sklearn-color-fitted-level-0);\n",
       "}\n",
       "\n",
       "#sk-container-id-1 div.sk-toggleable__content pre {\n",
       "  margin: 0.2em;\n",
       "  border-radius: 0.25em;\n",
       "  color: var(--sklearn-color-text);\n",
       "  /* unfitted */\n",
       "  background-color: var(--sklearn-color-unfitted-level-0);\n",
       "}\n",
       "\n",
       "#sk-container-id-1 div.sk-toggleable__content.fitted pre {\n",
       "  /* unfitted */\n",
       "  background-color: var(--sklearn-color-fitted-level-0);\n",
       "}\n",
       "\n",
       "#sk-container-id-1 input.sk-toggleable__control:checked~div.sk-toggleable__content {\n",
       "  /* Expand drop-down */\n",
       "  max-height: 200px;\n",
       "  max-width: 100%;\n",
       "  overflow: auto;\n",
       "}\n",
       "\n",
       "#sk-container-id-1 input.sk-toggleable__control:checked~label.sk-toggleable__label-arrow:before {\n",
       "  content: \"▾\";\n",
       "}\n",
       "\n",
       "/* Pipeline/ColumnTransformer-specific style */\n",
       "\n",
       "#sk-container-id-1 div.sk-label input.sk-toggleable__control:checked~label.sk-toggleable__label {\n",
       "  color: var(--sklearn-color-text);\n",
       "  background-color: var(--sklearn-color-unfitted-level-2);\n",
       "}\n",
       "\n",
       "#sk-container-id-1 div.sk-label.fitted input.sk-toggleable__control:checked~label.sk-toggleable__label {\n",
       "  background-color: var(--sklearn-color-fitted-level-2);\n",
       "}\n",
       "\n",
       "/* Estimator-specific style */\n",
       "\n",
       "/* Colorize estimator box */\n",
       "#sk-container-id-1 div.sk-estimator input.sk-toggleable__control:checked~label.sk-toggleable__label {\n",
       "  /* unfitted */\n",
       "  background-color: var(--sklearn-color-unfitted-level-2);\n",
       "}\n",
       "\n",
       "#sk-container-id-1 div.sk-estimator.fitted input.sk-toggleable__control:checked~label.sk-toggleable__label {\n",
       "  /* fitted */\n",
       "  background-color: var(--sklearn-color-fitted-level-2);\n",
       "}\n",
       "\n",
       "#sk-container-id-1 div.sk-label label.sk-toggleable__label,\n",
       "#sk-container-id-1 div.sk-label label {\n",
       "  /* The background is the default theme color */\n",
       "  color: var(--sklearn-color-text-on-default-background);\n",
       "}\n",
       "\n",
       "/* On hover, darken the color of the background */\n",
       "#sk-container-id-1 div.sk-label:hover label.sk-toggleable__label {\n",
       "  color: var(--sklearn-color-text);\n",
       "  background-color: var(--sklearn-color-unfitted-level-2);\n",
       "}\n",
       "\n",
       "/* Label box, darken color on hover, fitted */\n",
       "#sk-container-id-1 div.sk-label.fitted:hover label.sk-toggleable__label.fitted {\n",
       "  color: var(--sklearn-color-text);\n",
       "  background-color: var(--sklearn-color-fitted-level-2);\n",
       "}\n",
       "\n",
       "/* Estimator label */\n",
       "\n",
       "#sk-container-id-1 div.sk-label label {\n",
       "  font-family: monospace;\n",
       "  font-weight: bold;\n",
       "  display: inline-block;\n",
       "  line-height: 1.2em;\n",
       "}\n",
       "\n",
       "#sk-container-id-1 div.sk-label-container {\n",
       "  text-align: center;\n",
       "}\n",
       "\n",
       "/* Estimator-specific */\n",
       "#sk-container-id-1 div.sk-estimator {\n",
       "  font-family: monospace;\n",
       "  border: 1px dotted var(--sklearn-color-border-box);\n",
       "  border-radius: 0.25em;\n",
       "  box-sizing: border-box;\n",
       "  margin-bottom: 0.5em;\n",
       "  /* unfitted */\n",
       "  background-color: var(--sklearn-color-unfitted-level-0);\n",
       "}\n",
       "\n",
       "#sk-container-id-1 div.sk-estimator.fitted {\n",
       "  /* fitted */\n",
       "  background-color: var(--sklearn-color-fitted-level-0);\n",
       "}\n",
       "\n",
       "/* on hover */\n",
       "#sk-container-id-1 div.sk-estimator:hover {\n",
       "  /* unfitted */\n",
       "  background-color: var(--sklearn-color-unfitted-level-2);\n",
       "}\n",
       "\n",
       "#sk-container-id-1 div.sk-estimator.fitted:hover {\n",
       "  /* fitted */\n",
       "  background-color: var(--sklearn-color-fitted-level-2);\n",
       "}\n",
       "\n",
       "/* Specification for estimator info (e.g. \"i\" and \"?\") */\n",
       "\n",
       "/* Common style for \"i\" and \"?\" */\n",
       "\n",
       ".sk-estimator-doc-link,\n",
       "a:link.sk-estimator-doc-link,\n",
       "a:visited.sk-estimator-doc-link {\n",
       "  float: right;\n",
       "  font-size: smaller;\n",
       "  line-height: 1em;\n",
       "  font-family: monospace;\n",
       "  background-color: var(--sklearn-color-background);\n",
       "  border-radius: 1em;\n",
       "  height: 1em;\n",
       "  width: 1em;\n",
       "  text-decoration: none !important;\n",
       "  margin-left: 0.5em;\n",
       "  text-align: center;\n",
       "  /* unfitted */\n",
       "  border: var(--sklearn-color-unfitted-level-1) 1pt solid;\n",
       "  color: var(--sklearn-color-unfitted-level-1);\n",
       "}\n",
       "\n",
       ".sk-estimator-doc-link.fitted,\n",
       "a:link.sk-estimator-doc-link.fitted,\n",
       "a:visited.sk-estimator-doc-link.fitted {\n",
       "  /* fitted */\n",
       "  border: var(--sklearn-color-fitted-level-1) 1pt solid;\n",
       "  color: var(--sklearn-color-fitted-level-1);\n",
       "}\n",
       "\n",
       "/* On hover */\n",
       "div.sk-estimator:hover .sk-estimator-doc-link:hover,\n",
       ".sk-estimator-doc-link:hover,\n",
       "div.sk-label-container:hover .sk-estimator-doc-link:hover,\n",
       ".sk-estimator-doc-link:hover {\n",
       "  /* unfitted */\n",
       "  background-color: var(--sklearn-color-unfitted-level-3);\n",
       "  color: var(--sklearn-color-background);\n",
       "  text-decoration: none;\n",
       "}\n",
       "\n",
       "div.sk-estimator.fitted:hover .sk-estimator-doc-link.fitted:hover,\n",
       ".sk-estimator-doc-link.fitted:hover,\n",
       "div.sk-label-container:hover .sk-estimator-doc-link.fitted:hover,\n",
       ".sk-estimator-doc-link.fitted:hover {\n",
       "  /* fitted */\n",
       "  background-color: var(--sklearn-color-fitted-level-3);\n",
       "  color: var(--sklearn-color-background);\n",
       "  text-decoration: none;\n",
       "}\n",
       "\n",
       "/* Span, style for the box shown on hovering the info icon */\n",
       ".sk-estimator-doc-link span {\n",
       "  display: none;\n",
       "  z-index: 9999;\n",
       "  position: relative;\n",
       "  font-weight: normal;\n",
       "  right: .2ex;\n",
       "  padding: .5ex;\n",
       "  margin: .5ex;\n",
       "  width: min-content;\n",
       "  min-width: 20ex;\n",
       "  max-width: 50ex;\n",
       "  color: var(--sklearn-color-text);\n",
       "  box-shadow: 2pt 2pt 4pt #999;\n",
       "  /* unfitted */\n",
       "  background: var(--sklearn-color-unfitted-level-0);\n",
       "  border: .5pt solid var(--sklearn-color-unfitted-level-3);\n",
       "}\n",
       "\n",
       ".sk-estimator-doc-link.fitted span {\n",
       "  /* fitted */\n",
       "  background: var(--sklearn-color-fitted-level-0);\n",
       "  border: var(--sklearn-color-fitted-level-3);\n",
       "}\n",
       "\n",
       ".sk-estimator-doc-link:hover span {\n",
       "  display: block;\n",
       "}\n",
       "\n",
       "/* \"?\"-specific style due to the `<a>` HTML tag */\n",
       "\n",
       "#sk-container-id-1 a.estimator_doc_link {\n",
       "  float: right;\n",
       "  font-size: 1rem;\n",
       "  line-height: 1em;\n",
       "  font-family: monospace;\n",
       "  background-color: var(--sklearn-color-background);\n",
       "  border-radius: 1rem;\n",
       "  height: 1rem;\n",
       "  width: 1rem;\n",
       "  text-decoration: none;\n",
       "  /* unfitted */\n",
       "  color: var(--sklearn-color-unfitted-level-1);\n",
       "  border: var(--sklearn-color-unfitted-level-1) 1pt solid;\n",
       "}\n",
       "\n",
       "#sk-container-id-1 a.estimator_doc_link.fitted {\n",
       "  /* fitted */\n",
       "  border: var(--sklearn-color-fitted-level-1) 1pt solid;\n",
       "  color: var(--sklearn-color-fitted-level-1);\n",
       "}\n",
       "\n",
       "/* On hover */\n",
       "#sk-container-id-1 a.estimator_doc_link:hover {\n",
       "  /* unfitted */\n",
       "  background-color: var(--sklearn-color-unfitted-level-3);\n",
       "  color: var(--sklearn-color-background);\n",
       "  text-decoration: none;\n",
       "}\n",
       "\n",
       "#sk-container-id-1 a.estimator_doc_link.fitted:hover {\n",
       "  /* fitted */\n",
       "  background-color: var(--sklearn-color-fitted-level-3);\n",
       "}\n",
       "</style><div id=\"sk-container-id-1\" class=\"sk-top-container\"><div class=\"sk-text-repr-fallback\"><pre>KNeighborsClassifier(n_neighbors=3)</pre><b>In a Jupyter environment, please rerun this cell to show the HTML representation or trust the notebook. <br />On GitHub, the HTML representation is unable to render, please try loading this page with nbviewer.org.</b></div><div class=\"sk-container\" hidden><div class=\"sk-item\"><div class=\"sk-estimator fitted sk-toggleable\"><input class=\"sk-toggleable__control sk-hidden--visually\" id=\"sk-estimator-id-1\" type=\"checkbox\" checked><label for=\"sk-estimator-id-1\" class=\"sk-toggleable__label fitted sk-toggleable__label-arrow\"><div><div>KNeighborsClassifier</div></div><div><a class=\"sk-estimator-doc-link fitted\" rel=\"noreferrer\" target=\"_blank\" href=\"https://scikit-learn.org/1.6/modules/generated/sklearn.neighbors.KNeighborsClassifier.html\">?<span>Documentation for KNeighborsClassifier</span></a><span class=\"sk-estimator-doc-link fitted\">i<span>Fitted</span></span></div></label><div class=\"sk-toggleable__content fitted\"><pre>KNeighborsClassifier(n_neighbors=3)</pre></div> </div></div></div></div>"
      ],
      "text/plain": [
       "KNeighborsClassifier(n_neighbors=3)"
      ]
     },
     "execution_count": 20,
     "metadata": {},
     "output_type": "execute_result"
    }
   ],
   "source": [
    "modelo_classificador = KNeighborsClassifier(n_neighbors=3)\n",
    "\n",
    "modelo_classificador.fit(x_train_scaled, y_train) "
   ]
  },
  {
   "cell_type": "markdown",
   "id": "5a4b38e8",
   "metadata": {
    "id": "5a4b38e8"
   },
   "source": [
    "### Validação do modelo (testando o modelo)"
   ]
  },
  {
   "cell_type": "code",
   "execution_count": 21,
   "id": "39fb59d2",
   "metadata": {
    "executionInfo": {
     "elapsed": 425,
     "status": "ok",
     "timestamp": 1679867710372,
     "user": {
      "displayName": "Ana Raquel Fernandes Cunha",
      "userId": "11327054232231817255"
     },
     "user_tz": 180
    },
    "id": "39fb59d2"
   },
   "outputs": [],
   "source": [
    "# Predição sem escalolnamento\n",
    "y_predito = modelo_classificador.predict(x_test_scaled)"
   ]
  },
  {
   "cell_type": "code",
   "execution_count": 22,
   "id": "2682aa2a",
   "metadata": {
    "colab": {
     "base_uri": "https://localhost:8080/",
     "height": 175
    },
    "executionInfo": {
     "elapsed": 11,
     "status": "ok",
     "timestamp": 1679867712471,
     "user": {
      "displayName": "Ana Raquel Fernandes Cunha",
      "userId": "11327054232231817255"
     },
     "user_tz": 180
    },
    "id": "2682aa2a",
    "outputId": "572cfec2-80fa-4b95-e05d-23285976489d"
   },
   "outputs": [
    {
     "data": {
      "text/html": [
       "<div>\n",
       "<style scoped>\n",
       "    .dataframe tbody tr th:only-of-type {\n",
       "        vertical-align: middle;\n",
       "    }\n",
       "\n",
       "    .dataframe tbody tr th {\n",
       "        vertical-align: top;\n",
       "    }\n",
       "\n",
       "    .dataframe thead th {\n",
       "        text-align: right;\n",
       "    }\n",
       "</style>\n",
       "<table border=\"1\" class=\"dataframe\">\n",
       "  <thead>\n",
       "    <tr style=\"text-align: right;\">\n",
       "      <th></th>\n",
       "      <th>V1</th>\n",
       "      <th>V2</th>\n",
       "      <th>V3</th>\n",
       "      <th>V4</th>\n",
       "      <th>V5</th>\n",
       "      <th>V6</th>\n",
       "    </tr>\n",
       "    <tr>\n",
       "      <th>diagnostic</th>\n",
       "      <th></th>\n",
       "      <th></th>\n",
       "      <th></th>\n",
       "      <th></th>\n",
       "      <th></th>\n",
       "      <th></th>\n",
       "    </tr>\n",
       "  </thead>\n",
       "  <tbody>\n",
       "    <tr>\n",
       "      <th>Disk Hernia</th>\n",
       "      <td>60</td>\n",
       "      <td>60</td>\n",
       "      <td>60</td>\n",
       "      <td>60</td>\n",
       "      <td>60</td>\n",
       "      <td>60</td>\n",
       "    </tr>\n",
       "    <tr>\n",
       "      <th>Normal</th>\n",
       "      <td>100</td>\n",
       "      <td>100</td>\n",
       "      <td>100</td>\n",
       "      <td>100</td>\n",
       "      <td>100</td>\n",
       "      <td>100</td>\n",
       "    </tr>\n",
       "    <tr>\n",
       "      <th>Spondylolisthesis</th>\n",
       "      <td>149</td>\n",
       "      <td>149</td>\n",
       "      <td>149</td>\n",
       "      <td>149</td>\n",
       "      <td>149</td>\n",
       "      <td>149</td>\n",
       "    </tr>\n",
       "  </tbody>\n",
       "</table>\n",
       "</div>"
      ],
      "text/plain": [
       "                    V1   V2   V3   V4   V5   V6\n",
       "diagnostic                                     \n",
       "Disk Hernia         60   60   60   60   60   60\n",
       "Normal             100  100  100  100  100  100\n",
       "Spondylolisthesis  149  149  149  149  149  149"
      ]
     },
     "execution_count": 22,
     "metadata": {},
     "output_type": "execute_result"
    }
   ],
   "source": [
    "tabela_dados.groupby('diagnostic').count()"
   ]
  },
  {
   "cell_type": "code",
   "execution_count": 23,
   "id": "q01BRjZqd3KQ",
   "metadata": {
    "executionInfo": {
     "elapsed": 542,
     "status": "ok",
     "timestamp": 1679867715455,
     "user": {
      "displayName": "Ana Raquel Fernandes Cunha",
      "userId": "11327054232231817255"
     },
     "user_tz": 180
    },
    "id": "q01BRjZqd3KQ"
   },
   "outputs": [],
   "source": [
    "from sklearn.metrics import ConfusionMatrixDisplay"
   ]
  },
  {
   "cell_type": "code",
   "execution_count": 24,
   "id": "2279b6bd",
   "metadata": {
    "colab": {
     "base_uri": "https://localhost:8080/",
     "height": 314
    },
    "executionInfo": {
     "elapsed": 637,
     "status": "ok",
     "timestamp": 1679867717887,
     "user": {
      "displayName": "Ana Raquel Fernandes Cunha",
      "userId": "11327054232231817255"
     },
     "user_tz": 180
    },
    "id": "2279b6bd",
    "outputId": "6820ebca-24c6-48f8-fc1f-c600f8f45884"
   },
   "outputs": [
    {
     "data": {
      "text/plain": [
       "<sklearn.metrics._plot.confusion_matrix.ConfusionMatrixDisplay at 0x19c87121430>"
      ]
     },
     "execution_count": 24,
     "metadata": {},
     "output_type": "execute_result"
    },
    {
     "data": {
      "text/plain": [
       "<Figure size 1500x500 with 0 Axes>"
      ]
     },
     "metadata": {},
     "output_type": "display_data"
    },
    {
     "data": {
      "image/png": "[encoded data removed]",
      "text/plain": [
       "<Figure size 640x480 with 2 Axes>"
      ]
     },
     "metadata": {},
     "output_type": "display_data"
    }
   ],
   "source": [
    "matriz_confusao = confusion_matrix(y_true = y_test,\n",
    "                                   y_pred = y_predito,\n",
    "                                   labels=['Disk Hernia', 'Normal', 'Spondylolisthesis'])\n",
    "\n",
    "# plotando uma figura com a matriz de confusao\n",
    "figure = plt.figure(figsize=(15, 5))\n",
    "disp = ConfusionMatrixDisplay(confusion_matrix = matriz_confusao,\n",
    "                              display_labels=['Disk Hernia', 'Normal', 'Spondylolisthesis'])\n",
    "disp.plot(values_format='d') "
   ]
  },
  {
   "cell_type": "code",
   "execution_count": 25,
   "id": "0e8eedb1",
   "metadata": {
    "colab": {
     "base_uri": "https://localhost:8080/"
    },
    "executionInfo": {
     "elapsed": 3,
     "status": "ok",
     "timestamp": 1679867721040,
     "user": {
      "displayName": "Ana Raquel Fernandes Cunha",
      "userId": "11327054232231817255"
     },
     "user_tz": 180
    },
    "id": "0e8eedb1",
    "outputId": "7d9cd409-5024-40ac-e6db-500b0e1332df"
   },
   "outputs": [
    {
     "name": "stdout",
     "output_type": "stream",
     "text": [
      "                   precision    recall  f1-score   support\n",
      "\n",
      "      Disk Hernia       0.54      0.58      0.56        12\n",
      "           Normal       0.79      0.75      0.77        20\n",
      "Spondylolisthesis       0.93      0.93      0.93        30\n",
      "\n",
      "         accuracy                           0.81        62\n",
      "        macro avg       0.75      0.76      0.75        62\n",
      "     weighted avg       0.81      0.81      0.81        62\n",
      "\n"
     ]
    }
   ],
   "source": [
    "print(classification_report(y_test, y_predito))"
   ]
  },
  {
   "cell_type": "markdown",
   "id": "df92d070",
   "metadata": {
    "id": "df92d070"
   },
   "source": [
    "### Testando o KNN com validação cruzada:"
   ]
  },
  {
   "cell_type": "markdown",
   "id": "0f9cb89a",
   "metadata": {
    "id": "0f9cb89a"
   },
   "source": [
    "### Incluindo a etapa de validação do modelo de knn:\n",
    "\n",
    "Estamos fazendo a VALIDAÇÃO dos melhores hiperparâmetros do modelo de ML:\n",
    "\n",
    "Idealmente, devemos ter 5 conjuntos de dados (treino, teste, validacao) ou usar a validação cruzada em cima dos dados de treino."
   ]
  },
  {
   "cell_type": "code",
   "execution_count": 26,
   "id": "Eljdw3Udd_xD",
   "metadata": {
    "executionInfo": {
     "elapsed": 554,
     "status": "ok",
     "timestamp": 1679867725247,
     "user": {
      "displayName": "Ana Raquel Fernandes Cunha",
      "userId": "11327054232231817255"
     },
     "user_tz": 180
    },
    "id": "Eljdw3Udd_xD"
   },
   "outputs": [],
   "source": [
    "from sklearn.model_selection import cross_val_score \n",
    "from sklearn.model_selection import KFold "
   ]
  },
  {
   "cell_type": "code",
   "execution_count": 27,
   "id": "2MBUAAKfyuPS",
   "metadata": {
    "colab": {
     "base_uri": "https://localhost:8080/"
    },
    "executionInfo": {
     "elapsed": 3,
     "status": "ok",
     "timestamp": 1679867739082,
     "user": {
      "displayName": "Ana Raquel Fernandes Cunha",
      "userId": "11327054232231817255"
     },
     "user_tz": 180
    },
    "id": "2MBUAAKfyuPS",
    "outputId": "d837820b-61be-4ba7-c711-db15eeca834f"
   },
   "outputs": [
    {
     "name": "stdout",
     "output_type": "stream",
     "text": [
      "K-Fold (R^2) Scores: [0.77419355 0.82258065 0.79032258 0.77419355 0.81967213]\n",
      "Mean R^2 for Cross-Validation K-Fold: 0.7961924907456372\n"
     ]
    }
   ],
   "source": [
    "kfold  = KFold(n_splits=5, shuffle=True) # shuffle=True, Shuffle (embaralhar) os dados.\n",
    "result = cross_val_score(modelo_classificador, x, y, cv = kfold)\n",
    "\n",
    "print(\"K-Fold (R^2) Scores: {0}\".format(result))\n",
    "print(\"Mean R^2 for Cross-Validation K-Fold: {0}\".format(result.mean()))"
   ]
  },
  {
   "cell_type": "markdown",
   "id": "XH-UdZd789vu",
   "metadata": {
    "id": "XH-UdZd789vu"
   },
   "source": [
    "A saída exibirá a precisão média do modelo (ou seja, a acurácia) com uma medida de variação associada (calculada pela multiplicação do desvio padrão por 2). "
   ]
  },
  {
   "cell_type": "markdown",
   "id": "FY3YV4qg7TB2",
   "metadata": {
    "id": "FY3YV4qg7TB2"
   },
   "source": [
    "Escolhendo os melhores hiperparâmetros com validação cruzada:"
   ]
  },
  {
   "cell_type": "code",
   "execution_count": 28,
   "id": "a197a010",
   "metadata": {
    "executionInfo": {
     "elapsed": 370,
     "status": "ok",
     "timestamp": 1679867745072,
     "user": {
      "displayName": "Ana Raquel Fernandes Cunha",
      "userId": "11327054232231817255"
     },
     "user_tz": 180
    },
    "id": "a197a010"
   },
   "outputs": [],
   "source": [
    "from sklearn.model_selection import GridSearchCV #metodo para seleção dos melhores Ks (#Basicamente a busca por força bruta)\n",
    "from sklearn.metrics import make_scorer, accuracy_score, f1_score #métricas de validação\n",
    "import numpy as np\n",
    "import matplotlib.pyplot as plt"
   ]
  },
  {
   "cell_type": "code",
   "execution_count": 29,
   "id": "83d01498",
   "metadata": {
    "executionInfo": {
     "elapsed": 460,
     "status": "ok",
     "timestamp": 1679867822771,
     "user": {
      "displayName": "Ana Raquel Fernandes Cunha",
      "userId": "11327054232231817255"
     },
     "user_tz": 180
    },
    "id": "83d01498"
   },
   "outputs": [],
   "source": [
    "error = [] #armazenar os erros\n",
    "\n",
    "# Calculating error for K values between 1 and 15\n",
    "for i in range(1, 15):\n",
    "    knn = KNeighborsClassifier(n_neighbors=i)\n",
    "    knn.fit(x_train_scaled, y_train)\n",
    "    pred_i = knn.predict(x_test_scaled)\n",
    "    error.append(np.mean(pred_i != y_test))"
   ]
  },
  {
   "cell_type": "code",
   "execution_count": 30,
   "id": "3acf0753",
   "metadata": {
    "colab": {
     "base_uri": "https://localhost:8080/",
     "height": 421
    },
    "executionInfo": {
     "elapsed": 849,
     "status": "ok",
     "timestamp": 1679867826930,
     "user": {
      "displayName": "Ana Raquel Fernandes Cunha",
      "userId": "11327054232231817255"
     },
     "user_tz": 180
    },
    "id": "3acf0753",
    "outputId": "a0c76962-fd24-4519-cac4-cefe74a47a2d"
   },
   "outputs": [
    {
     "data": {
      "text/plain": [
       "Text(0, 0.5, 'Mean Error')"
      ]
     },
     "execution_count": 30,
     "metadata": {},
     "output_type": "execute_result"
    },
    {
     "data": {
      "image/png": "[encoded data removed]",
      "text/plain": [
       "<Figure size 1200x600 with 1 Axes>"
      ]
     },
     "metadata": {},
     "output_type": "display_data"
    }
   ],
   "source": [
    "plt.figure(figsize=(12, 6))\n",
    "plt.plot(range(1, 15), error, color='red', linestyle='dashed', marker='o',\n",
    "         markerfacecolor='blue', markersize=10)\n",
    "plt.title('Error Rate K Value')\n",
    "plt.xlabel('K Value')\n",
    "plt.ylabel('Mean Error')"
   ]
  },
  {
   "cell_type": "code",
   "execution_count": 31,
   "id": "fd4d6fe7",
   "metadata": {
    "colab": {
     "base_uri": "https://localhost:8080/"
    },
    "executionInfo": {
     "elapsed": 551,
     "status": "ok",
     "timestamp": 1679867899992,
     "user": {
      "displayName": "Ana Raquel Fernandes Cunha",
      "userId": "11327054232231817255"
     },
     "user_tz": 180
    },
    "id": "fd4d6fe7",
    "outputId": "eef54cd2-d079-4267-a9a8-8e1cfb034aef"
   },
   "outputs": [
    {
     "name": "stdout",
     "output_type": "stream",
     "text": [
      "Fitting 5 folds for each of 12 candidates, totalling 60 fits\n",
      "KNN {'metric': 'euclidean', 'n_neighbors': 8, 'weights': 'distance'}\n"
     ]
    }
   ],
   "source": [
    "# Buscar os melhores parâmetros\n",
    "# Vamos usar uma técnica chamada Gridsearch que é basicamente a busca por força bruta\n",
    "# Iremos utilizar a técnica de validação cruzada de 5 folds (divisões) em cima do conjunto de treinamento\n",
    "# Como métrica de melhor desemepnho usaremos a acurácia, isto é, estamos buscando os hiperparâmetros que maximizam a acurácia\n",
    "\n",
    "# Parâmetros testados\n",
    "param_grid = {'n_neighbors':[8,14], #total de vizinhos\n",
    "              'weights': ['uniform', 'distance'], #Função de peso usada na previsão\n",
    "              'metric':['cosine', 'euclidean', 'manhattan'] #métrica para cálculo da distância\n",
    "             }\n",
    "\n",
    "# Métrica de desempenho = melhor acurácia\n",
    "gs_metric = make_scorer(accuracy_score, greater_is_better=True)\n",
    "\n",
    "grid = GridSearchCV(KNeighborsClassifier(), \n",
    "                    param_grid=param_grid,\n",
    "                    scoring=gs_metric,\n",
    "                    cv=5, n_jobs=4, verbose=3) #cv = gerador de validação cruzada / n_jobs = determina a quantidade de jobs processados\n",
    "\n",
    "grid.fit(x_train_scaled, y_train) #Selecionando os melhores hiperparametros com base nos dados de treino\n",
    "knn_params = grid.best_params_\n",
    "print('KNN', knn_params)"
   ]
  },
  {
   "cell_type": "code",
   "execution_count": 32,
   "id": "7066efad",
   "metadata": {
    "colab": {
     "base_uri": "https://localhost:8080/"
    },
    "executionInfo": {
     "elapsed": 397,
     "status": "ok",
     "timestamp": 1679867903412,
     "user": {
      "displayName": "Ana Raquel Fernandes Cunha",
      "userId": "11327054232231817255"
     },
     "user_tz": 180
    },
    "id": "7066efad",
    "outputId": "8661d13b-9da4-4ac7-9515-1a45442024cb"
   },
   "outputs": [
    {
     "data": {
      "text/plain": [
       "{'mean_fit_time': array([0.00329442, 0.00230618, 0.00166144, 0.00156755, 0.00194259,\n",
       "        0.00171456, 0.00211143, 0.00165296, 0.00204172, 0.00149417,\n",
       "        0.00123639, 0.00182009]),\n",
       " 'std_fit_time': array([0.0010001 , 0.0007358 , 0.0004661 , 0.00063696, 0.00076269,\n",
       "        0.0004076 , 0.00059913, 0.0005028 , 0.00101165, 0.00076352,\n",
       "        0.00038772, 0.00076104]),\n",
       " 'mean_score_time': array([0.00826778, 0.00583692, 0.00832591, 0.0033329 , 0.00739846,\n",
       "        0.0028657 , 0.00708909, 0.00287418, 0.00557356, 0.00286317,\n",
       "        0.00592785, 0.00216241]),\n",
       " 'std_score_time': array([0.00219309, 0.00215942, 0.00096286, 0.00096007, 0.00102991,\n",
       "        0.00035393, 0.00166645, 0.00142663, 0.00098389, 0.00043605,\n",
       "        0.00122618, 0.00019005]),\n",
       " 'param_metric': masked_array(data=['cosine', 'cosine', 'cosine', 'cosine', 'euclidean',\n",
       "                    'euclidean', 'euclidean', 'euclidean', 'manhattan',\n",
       "                    'manhattan', 'manhattan', 'manhattan'],\n",
       "              mask=[False, False, False, False, False, False, False, False,\n",
       "                    False, False, False, False],\n",
       "        fill_value=np.str_('?'),\n",
       "             dtype=object),\n",
       " 'param_n_neighbors': masked_array(data=[8, 8, 14, 14, 8, 8, 14, 14, 8, 8, 14, 14],\n",
       "              mask=[False, False, False, False, False, False, False, False,\n",
       "                    False, False, False, False],\n",
       "        fill_value=999999),\n",
       " 'param_weights': masked_array(data=['uniform', 'distance', 'uniform', 'distance',\n",
       "                    'uniform', 'distance', 'uniform', 'distance',\n",
       "                    'uniform', 'distance', 'uniform', 'distance'],\n",
       "              mask=[False, False, False, False, False, False, False, False,\n",
       "                    False, False, False, False],\n",
       "        fill_value=np.str_('?'),\n",
       "             dtype=object),\n",
       " 'params': [{'metric': 'cosine', 'n_neighbors': 8, 'weights': 'uniform'},\n",
       "  {'metric': 'cosine', 'n_neighbors': 8, 'weights': 'distance'},\n",
       "  {'metric': 'cosine', 'n_neighbors': 14, 'weights': 'uniform'},\n",
       "  {'metric': 'cosine', 'n_neighbors': 14, 'weights': 'distance'},\n",
       "  {'metric': 'euclidean', 'n_neighbors': 8, 'weights': 'uniform'},\n",
       "  {'metric': 'euclidean', 'n_neighbors': 8, 'weights': 'distance'},\n",
       "  {'metric': 'euclidean', 'n_neighbors': 14, 'weights': 'uniform'},\n",
       "  {'metric': 'euclidean', 'n_neighbors': 14, 'weights': 'distance'},\n",
       "  {'metric': 'manhattan', 'n_neighbors': 8, 'weights': 'uniform'},\n",
       "  {'metric': 'manhattan', 'n_neighbors': 8, 'weights': 'distance'},\n",
       "  {'metric': 'manhattan', 'n_neighbors': 14, 'weights': 'uniform'},\n",
       "  {'metric': 'manhattan', 'n_neighbors': 14, 'weights': 'distance'}],\n",
       " 'split0_test_score': array([0.76, 0.76, 0.76, 0.76, 0.78, 0.78, 0.8 , 0.8 , 0.82, 0.82, 0.82,\n",
       "        0.82]),\n",
       " 'split1_test_score': array([0.76, 0.78, 0.8 , 0.84, 0.84, 0.84, 0.84, 0.84, 0.84, 0.84, 0.82,\n",
       "        0.8 ]),\n",
       " 'split2_test_score': array([0.7755102 , 0.79591837, 0.75510204, 0.75510204, 0.79591837,\n",
       "        0.81632653, 0.75510204, 0.83673469, 0.79591837, 0.79591837,\n",
       "        0.75510204, 0.79591837]),\n",
       " 'split3_test_score': array([0.79591837, 0.79591837, 0.75510204, 0.7755102 , 0.73469388,\n",
       "        0.7755102 , 0.69387755, 0.73469388, 0.69387755, 0.73469388,\n",
       "        0.71428571, 0.71428571]),\n",
       " 'split4_test_score': array([0.83673469, 0.87755102, 0.81632653, 0.83673469, 0.79591837,\n",
       "        0.81632653, 0.79591837, 0.7755102 , 0.7755102 , 0.7755102 ,\n",
       "        0.7755102 , 0.75510204]),\n",
       " 'mean_test_score': array([0.78563265, 0.80187755, 0.77730612, 0.79346939, 0.78930612,\n",
       "        0.80563265, 0.77697959, 0.79738776, 0.78506122, 0.79322449,\n",
       "        0.77697959, 0.77706122]),\n",
       " 'std_test_score': array([0.02875324, 0.04007457, 0.02578041, 0.03728745, 0.03384203,\n",
       "        0.02438945, 0.0494869 , 0.03944606, 0.05052237, 0.036474  ,\n",
       "        0.04028106, 0.03781134]),\n",
       " 'rank_test_score': array([ 7,  2,  9,  4,  6,  1, 11,  3,  8,  5, 11, 10], dtype=int32)}"
      ]
     },
     "execution_count": 32,
     "metadata": {},
     "output_type": "execute_result"
    }
   ],
   "source": [
    "grid.cv_results_ #analisando todos os possíveis testes"
   ]
  },
  {
   "cell_type": "markdown",
   "id": "37f874ed",
   "metadata": {
    "id": "37f874ed"
   },
   "source": [
    "### Testando vários tipos de algoritmos de classificação:"
   ]
  },
  {
   "cell_type": "code",
   "execution_count": 34,
   "id": "4Td8lzbe5fS-",
   "metadata": {
    "executionInfo": {
     "elapsed": 7,
     "status": "ok",
     "timestamp": 1679867972875,
     "user": {
      "displayName": "Ana Raquel Fernandes Cunha",
      "userId": "11327054232231817255"
     },
     "user_tz": 180
    },
    "id": "4Td8lzbe5fS-"
   },
   "outputs": [],
   "source": [
    "def AplicaValidacaoCruzada(x_axis, y_axis):\n",
    "  # Linear Models.\n",
    "  from sklearn.neighbors import KNeighborsClassifier  # k-vizinhos mais próximos (KNN)\n",
    "  from sklearn.ensemble import RandomForestClassifier # RandomForest\n",
    "  from sklearn.svm import SVC                         # Maquina de Vetor Suporte SVM\n",
    "\n",
    "  # Cross-Validation models.\n",
    "  from sklearn.model_selection import cross_val_score\n",
    "  from sklearn.model_selection import KFold\n",
    "\n",
    "  # Configuração de KFold.\n",
    "  kfold  = KFold(n_splits=10, shuffle=True) \n",
    "\n",
    "  # Axis\n",
    "  x = x_axis\n",
    "  y = y_axis\n",
    "\n",
    "  # Criando os modelos\n",
    "\n",
    "  # KNN\n",
    "  knn = KNeighborsClassifier(n_neighbors=8, metric= 'euclidean', weights='distance') \n",
    "  knn.fit(x, y) \n",
    "\n",
    "  # SVM\n",
    "  svm = SVC()\n",
    "  svm.fit(x, y)\n",
    "\n",
    "  # RandomForest\n",
    "  rf = RandomForestClassifier(random_state=7) \n",
    "  rf.fit(x, y) \n",
    "\n",
    "  # Applyes KFold to models.\n",
    "  knn_result = cross_val_score(knn, x, y, cv = kfold)\n",
    "  svm_result = cross_val_score(svm, x, y, cv = kfold)\n",
    "  rf_result = cross_val_score(rf, x, y, cv = kfold)\n",
    "\n",
    "  # Creates a dictionary to store Linear Models.\n",
    "  dic_models = {\n",
    "    \"KNN\": knn_result.mean(),\n",
    "    \"SVM\": svm_result.mean(),\n",
    "    \"RF\": rf_result.mean()\n",
    "  }\n",
    "  # Select the best model.\n",
    "  melhorModelo = max(dic_models, key=dic_models.get)\n",
    "\n",
    "  print(\"KNN (R^2): {0}\\nSVM (R^2): {1}\\nRandom Forest (R^2): {2}\".format(knn_result.mean(), svm_result.mean(), rf_result.mean()))\n",
    "  print(\"O melhor modelo é : {0} com o valor: {1}\".format(melhorModelo, dic_models[melhorModelo]))\n",
    "\n"
   ]
  },
  {
   "cell_type": "code",
   "execution_count": 35,
   "id": "Cr-04lE76xY4",
   "metadata": {
    "colab": {
     "base_uri": "https://localhost:8080/"
    },
    "executionInfo": {
     "elapsed": 2768,
     "status": "ok",
     "timestamp": 1679867985230,
     "user": {
      "displayName": "Ana Raquel Fernandes Cunha",
      "userId": "11327054232231817255"
     },
     "user_tz": 180
    },
    "id": "Cr-04lE76xY4",
    "outputId": "0e29c12b-2d04-49dd-8636-2b9e14c303b0"
   },
   "outputs": [
    {
     "name": "stdout",
     "output_type": "stream",
     "text": [
      "KNN (R^2): 0.8480645161290322\n",
      "SVM (R^2): 0.8508602150537634\n",
      "Random Forest (R^2): 0.8478494623655914\n",
      "O melhor modelo é : SVM com o valor: 0.8508602150537634\n"
     ]
    }
   ],
   "source": [
    "  AplicaValidacaoCruzada(x, y)"
   ]
  }
 ],
 "metadata": {
  "colab": {
   "provenance": []
  },
  "kernelspec": {
   "display_name": "Python 3",
   "language": "python",
   "name": "python3"
  },
  "language_info": {
   "codemirror_mode": {
    "name": "ipython",
    "version": 3
   },
   "file_extension": ".py",
   "mimetype": "text/x-python",
   "name": "python",
   "nbconvert_exporter": "python",
   "pygments_lexer": "ipython3",
   "version": "3.12.9"
  }
 },
 "nbformat": 4,
 "nbformat_minor": 5
}
